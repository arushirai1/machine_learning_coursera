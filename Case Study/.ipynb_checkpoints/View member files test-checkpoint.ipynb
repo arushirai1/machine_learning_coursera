{
 "cells": [
  {
   "cell_type": "code",
   "execution_count": 18,
   "metadata": {
    "collapsed": true
   },
   "outputs": [],
   "source": [
    "import graphlab"
   ]
  },
  {
   "cell_type": "code",
   "execution_count": 19,
   "metadata": {
    "collapsed": false
   },
   "outputs": [
    {
     "data": {
      "text/html": [
       "<pre>Finished parsing file C:\\Users\\arush\\Machine Learning\\Case Study\\Member_Emails.csv</pre>"
      ],
      "text/plain": [
       "Finished parsing file C:\\Users\\arush\\Machine Learning\\Case Study\\Member_Emails.csv"
      ]
     },
     "metadata": {},
     "output_type": "display_data"
    },
    {
     "data": {
      "text/html": [
       "<pre>Parsing completed. Parsed 100 lines in 0.027073 secs.</pre>"
      ],
      "text/plain": [
       "Parsing completed. Parsed 100 lines in 0.027073 secs."
      ]
     },
     "metadata": {},
     "output_type": "display_data"
    },
    {
     "name": "stdout",
     "output_type": "stream",
     "text": [
      "------------------------------------------------------\n",
      "Inferred types from first 100 line(s) of file as \n",
      "column_type_hints=[str,str,str,str,str,str,long,str,str,long,str,str,str,str,str,str,str,str,str,str,str,str,str,long,str,str,str,str,float,float,long,long,str,str,str,str,long,str,str]\n",
      "If parsing fails due to incorrect types, you can correct\n",
      "the inferred type list above and pass it to read_csv in\n",
      "the column_type_hints argument\n",
      "------------------------------------------------------\n"
     ]
    },
    {
     "data": {
      "text/html": [
       "<pre>Finished parsing file C:\\Users\\arush\\Machine Learning\\Case Study\\Member_Emails.csv</pre>"
      ],
      "text/plain": [
       "Finished parsing file C:\\Users\\arush\\Machine Learning\\Case Study\\Member_Emails.csv"
      ]
     },
     "metadata": {},
     "output_type": "display_data"
    },
    {
     "data": {
      "text/html": [
       "<pre>Parsing completed. Parsed 194 lines in 0.017046 secs.</pre>"
      ],
      "text/plain": [
       "Parsing completed. Parsed 194 lines in 0.017046 secs."
      ]
     },
     "metadata": {},
     "output_type": "display_data"
    }
   ],
   "source": [
    "data = graphlab.SFrame('Member_Emails.csv')"
   ]
  },
  {
   "cell_type": "code",
   "execution_count": 20,
   "metadata": {
    "collapsed": false
   },
   "outputs": [
    {
     "name": "stdout",
     "output_type": "stream",
     "text": [
      "Canvas is updated and available in a tab in the default browser.\n"
     ]
    }
   ],
   "source": [
    "data.show()"
   ]
  },
  {
   "cell_type": "code",
   "execution_count": 24,
   "metadata": {
    "collapsed": false
   },
   "outputs": [],
   "source": [
    "def changeCity(city):\n",
    "    if city == 'CUPERTINO':\n",
    "        return 'Cupertino'\n",
    "    else:\n",
    "        return city"
   ]
  },
  {
   "cell_type": "code",
   "execution_count": 27,
   "metadata": {
    "collapsed": false
   },
   "outputs": [
    {
     "data": {
      "text/plain": [
       "<bound method SFrame.head of Columns:\n",
       "\tEmail Address\tstr\n",
       "\tFirst Name\tstr\n",
       "\tLast Name\tstr\n",
       "\tNickname\tstr\n",
       "\tStudent 1D Number\tstr\n",
       "\tReturning Member?\tstr\n",
       "\tGrade\tint\n",
       "\tHome Address\tstr\n",
       "\tCity\tstr\n",
       "\tZip Code\tint\n",
       "\tHome Phone\tstr\n",
       "\tCell Phone\tstr\n",
       "\tParent Email\tstr\n",
       "\tParent Email.1\tstr\n",
       "\tParent 2 Email\tstr\n",
       "\tParent 2 Company\tstr\n",
       "\tGender\tstr\n",
       "\tT-Shirt Size\tstr\n",
       "\tPolo?\tstr\n",
       "\tPosition\tstr\n",
       "\tEngineering Division\tstr\n",
       "\tOperation Division\tstr\n",
       "\tDivision\tstr\n",
       "\tMEMBER_RATING\tint\n",
       "\tOPTIN_TIME\tstr\n",
       "\tOPTIN_IP\tstr\n",
       "\tCONFIRM_TIME\tstr\n",
       "\tCONFIRM_IP\tstr\n",
       "\tLATITUDE\tfloat\n",
       "\tLONGITUDE\tfloat\n",
       "\tGMTOFF\tint\n",
       "\tDSTOFF\tint\n",
       "\tTIMEZONE\tstr\n",
       "\tCC\tstr\n",
       "\tREGION\tstr\n",
       "\tLAST_CHANGED\tstr\n",
       "\tLEID\tint\n",
       "\tEUID\tstr\n",
       "\tNOTES\tstr\n",
       "\n",
       "Rows: 194\n",
       "\n",
       "Data:\n",
       "+-------------------------+------------+-------------+----------+-------------------+\n",
       "|      Email Address      | First Name |  Last Name  | Nickname | Student 1D Number |\n",
       "+-------------------------+------------+-------------+----------+-------------------+\n",
       "| aditya.kalari@gmail.com |   Aditya   |    Kalari   |          |      5132210      |\n",
       "|   achierius@gmail.com   |   Marcus   |  Plutowski  |          |      5132368      |\n",
       "|   anandmeep@gmail.com   |   Anand    |   Rajamani  |          |      5121880      |\n",
       "|    namrata@zooglr.com   |  Namrata   | Subramanian |          |      5121916      |\n",
       "|  sameerskapur@gmail.com |   Sameer   |    Kapur    |          |      5142356      |\n",
       "|   bayspraxis@gmail.com  |   Praxis   |     Bays    |          |      5121666      |\n",
       "|   lee.mracek@gmail.com  |    Lee     |    Mracek   |          |      5120739      |\n",
       "|    akhil@theakhil.com   |   Akhil    |    Palla    |          |      5132349      |\n",
       "| arushirai1999@gmail.com |   Arushi   |     Rai     |          |      5131431      |\n",
       "| sauravpahadia@gmail.com |   Saurav   |   Pahadia   |          |      5141977      |\n",
       "+-------------------------+------------+-------------+----------+-------------------+\n",
       "+-------------------+-------+----------------------+------+----------+\n",
       "| Returning Member? | Grade |     Home Address     | City | Zip Code |\n",
       "+-------------------+-------+----------------------+------+----------+\n",
       "|  Returning member |   11  | 10914 Dryden Avenue  | None |  95014   |\n",
       "|  Returning member |   11  |  22545 Poppy Drive   | None |  95014   |\n",
       "|  Returning member |   12  |  21387 Krzich Place  | None |  95014   |\n",
       "|  Returning member |   12  |   10081 Carmen Rd.   | None |  95014   |\n",
       "|  Returning member |   10  |   21240 Maria Lane   | None |  95070   |\n",
       "|  Returning member |   12  | 22660 Silver Oak Ln  | None |  95014   |\n",
       "|  Returning member |   12  |  10129 Lockwood Dr   | None |  95014   |\n",
       "|  Returning member |   11  |   10316 Tonita Way   | None |  95014   |\n",
       "|  Returning member |   10  | 7944 McClellan Rd #3 | None |  95014   |\n",
       "|  Returning member |   10  | 1275 Water Lily Way  | None |  95129   |\n",
       "+-------------------+-------+----------------------+------+----------+\n",
       "+--------------+--------------+--------------------------+\n",
       "|  Home Phone  |  Cell Phone  |       Parent Email       |\n",
       "+--------------+--------------+--------------------------+\n",
       "|  4085640468  |      0       |     kalari@gmail.com     |\n",
       "|  4082025230  |  4088969409  | marp.plutowski@gmail.com |\n",
       "|  4089962212  |  4082342155  |    ramsub@comcast.net    |\n",
       "|  4082551488  |  4083348477  |   preethikar@yahoo.com   |\n",
       "|  4084464909  |  4088051733  |    kenkapur@yahoo.com    |\n",
       "| 408-517-0136 | 408-204-5256 |   chingbays@gmail.com    |\n",
       "|  6508149191  |  6696662909  |     john@mracek.com      |\n",
       "|  4084527508  |  4088568812  |  kiran_palla@yahoo.com   |\n",
       "|  6509031999  |  6502792949  |   neetu1996@yahoo.com    |\n",
       "|  4087250708  |  4084016844  |   jpahadia@hotmail.com   |\n",
       "+--------------+--------------+--------------------------+\n",
       "+--------------------------+-------------------------+------------------+--------+\n",
       "|      Parent Email.1      |      Parent 2 Email     | Parent 2 Company | Gender |\n",
       "+--------------------------+-------------------------+------------------+--------+\n",
       "|     Juniper Networks     |   ramakalari@gmail.com  |      Intel       |  Male  |\n",
       "|        Flipboard         |                         |                  |  Male  |\n",
       "|          Intel           |                         |                  |  Male  |\n",
       "|            HP            |     subrak@gmail.com    |      Apigee      | Female |\n",
       "| Thermo Fisher Scientific |     gkapur@gmail.com    |       SAP        |  Male  |\n",
       "|           CUSD           |  michaelbays@gmail.com  |      Cisco       | Female |\n",
       "|       Netseer, Inc       |     donna@mracek.com    |                  |  Male  |\n",
       "|        Microsemi         | Sridhar_palla@yahoo.com |     Synopsys     |  Male  |\n",
       "|            -             |            -            |        -         | Female |\n",
       "|    Intuitive Surgical    |    bpahadia@yahoo.com   |                  |  Male  |\n",
       "+--------------------------+-------------------------+------------------+--------+\n",
       "+--------------+-------+----------+-----+\n",
       "| T-Shirt Size | Polo? | Position | ... |\n",
       "+--------------+-------+----------+-----+\n",
       "|    Medium    |   No  | Officer  | ... |\n",
       "|    Large     |  Yes  | Officer  | ... |\n",
       "|    Medium    |   No  | Officer  | ... |\n",
       "|    Small     |   No  | Officer  | ... |\n",
       "|    Medium    |  Yes  | Officer  | ... |\n",
       "|    Small     |   No  | Officer  | ... |\n",
       "|    Large     |  Yes  |  Mentor  | ... |\n",
       "|    Medium    |  Yes  | Officer  | ... |\n",
       "|    Medium    |   No  | Officer  | ... |\n",
       "|    Medium    |  Yes  | Officer  | ... |\n",
       "+--------------+-------+----------+-----+\n",
       "[194 rows x 39 columns]\n",
       "Note: Only the head of the SFrame is printed.\n",
       "You can use print_rows(num_rows=m, num_columns=n) to print more rows and columns.>"
      ]
     },
     "execution_count": 27,
     "metadata": {},
     "output_type": "execute_result"
    }
   ],
   "source": [
    "data.head"
   ]
  },
  {
   "cell_type": "code",
   "execution_count": 26,
   "metadata": {
    "collapsed": false
   },
   "outputs": [
    {
     "data": {
      "text/plain": [
       "dtype: str\n",
       "Rows: 194\n",
       "[None, None, None, None, None, None, None, None, None, None, None, None, None, None, None, None, None, None, None, None, None, None, None, None, None, None, None, None, None, None, None, None, None, None, None, None, None, None, None, 'Cupertino', None, None, None, None, None, None, None, None, None, None, None, None, None, None, None, None, None, None, None, None, None, None, None, None, None, None, None, None, None, None, None, None, None, None, None, None, None, None, None, None, None, None, None, None, None, None, None, None, None, None, None, None, None, None, None, None, None, None, None, None, ... ]"
      ]
     },
     "execution_count": 26,
     "metadata": {},
     "output_type": "execute_result"
    }
   ],
   "source": []
  },
  {
   "cell_type": "code",
   "execution_count": null,
   "metadata": {
    "collapsed": true
   },
   "outputs": [],
   "source": []
  }
 ],
 "metadata": {
  "kernelspec": {
   "display_name": "Python 2",
   "language": "python",
   "name": "python2"
  },
  "language_info": {
   "codemirror_mode": {
    "name": "ipython",
    "version": 2
   },
   "file_extension": ".py",
   "mimetype": "text/x-python",
   "name": "python",
   "nbconvert_exporter": "python",
   "pygments_lexer": "ipython2",
   "version": "2.7.11"
  }
 },
 "nbformat": 4,
 "nbformat_minor": 0
}
